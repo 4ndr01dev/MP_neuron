{
 "cells": [
  {
   "cell_type": "markdown",
   "id": "upper-translation",
   "metadata": {},
   "source": [
    "# NEURON MCCULLOCH & PITTS\n",
    "## The basic implementation of thefirst neuron"
   ]
  },
  {
   "cell_type": "code",
   "execution_count": 10,
   "id": "backed-circle",
   "metadata": {},
   "outputs": [],
   "source": [
    "import numpy as np\n",
    "\n",
    "class NPneuron :\n",
    "\n",
    "    def __init__(self):\n",
    "        self.threshold = None\n",
    "\n",
    "    def model(self, x):\n",
    "        \n",
    "        # sum(x) : a()\n",
    "        # sum(x) >= self.threshold : f(x) model\n",
    "        \n",
    "        return (sum(x) >= self.threshold )\n",
    "    \n",
    "    def predict(self, X):\n",
    "        Y=[]\n",
    "        for x in X:\n",
    "            result = self.model(x)\n",
    "            Y.append(result)\n",
    "        return np.array(Y)"
   ]
  },
  {
   "cell_type": "code",
   "execution_count": 11,
   "id": "macro-elimination",
   "metadata": {},
   "outputs": [],
   "source": [
    "# Neuron Instance\n",
    "np_neuron = NPneuron()"
   ]
  },
  {
   "cell_type": "code",
   "execution_count": 14,
   "id": "funky-reservation",
   "metadata": {},
   "outputs": [],
   "source": [
    "#seting a threshold\n",
    "np_neuron.threshold = 2"
   ]
  },
  {
   "cell_type": "code",
   "execution_count": 16,
   "id": "further-grant",
   "metadata": {},
   "outputs": [
    {
     "data": {
      "text/plain": [
       "array([ True,  True,  True])"
      ]
     },
     "execution_count": 16,
     "metadata": {},
     "output_type": "execute_result"
    }
   ],
   "source": [
    "# seting an entry\n",
    "np_neuron.predict([[1,1,0,0],[1,1,1,1],[1,1,1,0]])"
   ]
  }
 ],
 "metadata": {
  "kernelspec": {
   "display_name": "Python 3",
   "language": "python",
   "name": "python3"
  },
  "language_info": {
   "codemirror_mode": {
    "name": "ipython",
    "version": 3
   },
   "file_extension": ".py",
   "mimetype": "text/x-python",
   "name": "python",
   "nbconvert_exporter": "python",
   "pygments_lexer": "ipython3",
   "version": "3.8.8"
  }
 },
 "nbformat": 4,
 "nbformat_minor": 5
}
